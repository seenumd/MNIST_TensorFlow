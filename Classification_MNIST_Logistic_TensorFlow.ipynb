{
 "cells": [
  {
   "cell_type": "markdown",
   "metadata": {
    "colab_type": "text",
    "id": "HHBZr3aPluCp"
   },
   "source": [
    "# MNIST Classification with Logistic Regression"
   ]
  },
  {
   "cell_type": "markdown",
   "metadata": {},
   "source": [
    "## Agenda:\n",
    "1. Tensorflow\n",
    "2. MNIST data\n",
    "\t- Collect data with one_hot\n",
    "\t- Get train and test data\n",
    "3. Define Parameters\n",
    "4. Build the Graph\n",
    "\t- Define placeholders and Vriables\n",
    "\t- Prediction\n",
    "\t- Loss\n",
    "\t- Optimizer\n",
    "\t- Model Accuracy\n",
    "\t- Logging\n",
    "5. Execute the Graph\n",
    "\t- Create Sesson\n",
    "\t- Run session on training set\n",
    "\t- Run session on Test set\n",
    "\t- Log the loss and accuracy for train and test\n",
    "\t- Sabe the model\n",
    "\t- Close the session"
   ]
  },
  {
   "cell_type": "markdown",
   "metadata": {},
   "source": [
    "## TensorFlow\n",
    "is an open-source software library for dataflow programming across a range of tasks. It is a symbolic math library, mostly used for machine learning applications such as neural networks. Its developed by Google."
   ]
  },
  {
   "cell_type": "markdown",
   "metadata": {},
   "source": [
    "## MNIST data\n",
    "The MNIST database of handwritten digits, available from http://yann.lecun.com/exdb/mnist/ page, has a training set of 55,000 examples, and a test set of 10,000 examples. It is a subset of a larger set available from NIST. The digits have been size-normalized and centered in a fixed-size image of 28x28.\n",
    "It is a good database for people who want to try learning techniques and pattern recognition methods on real-world data while spending minimal efforts on preprocessing and formatting.\n",
    "\n",
    "Four files are available on this database:    \n",
    "train-images-idx3-ubyte.gz:  training set images  \n",
    "train-labels-idx1-ubyte.gz:  training set labels   \n",
    "t10k-images-idx3-ubyte.gz:   test set images    \n",
    "t10k-labels-idx1-ubyte.gz:   test set labels \n",
    "\n",
    "28x28 handwritten digits image data faltten in to a vector form of size 784"
   ]
  },
  {
   "cell_type": "code",
   "execution_count": 1,
   "metadata": {
    "colab": {
     "autoexec": {
      "startup": false,
      "wait_interval": 0
     }
    },
    "colab_type": "code",
    "id": "ADxKs8kTluCs"
   },
   "outputs": [],
   "source": [
    "import tensorflow as tf"
   ]
  },
  {
   "cell_type": "code",
   "execution_count": 2,
   "metadata": {
    "colab": {
     "autoexec": {
      "startup": false,
      "wait_interval": 0
     }
    },
    "colab_type": "code",
    "id": "29AylAusluCx"
   },
   "outputs": [],
   "source": [
    "#Reset tensorflow graph\n",
    "tf.reset_default_graph()"
   ]
  },
  {
   "cell_type": "markdown",
   "metadata": {
    "colab_type": "text",
    "id": "JMyjscP0luC1"
   },
   "source": [
    "### Collect Data\n",
    "Use MNIST data provided with tensorflow library.   \n",
    "**One-Hot encoding:** where we create N new features, where N is the number of unique values in the original feature. In our exampel N would be equal to 10, because we have 10 digits(0 to 9). Each of these features be binary and would correspond to one of 0-9 digit. In our example first feature value in trainY set is 7 and it is equal to [0., 0., 0., 0., 0., 0., 0., 1., 0., 0.] in one hot encoding."
   ]
  },
  {
   "cell_type": "code",
   "execution_count": 3,
   "metadata": {
    "colab": {
     "autoexec": {
      "startup": false,
      "wait_interval": 0
     }
    },
    "colab_type": "code",
    "id": "FEFrv-QBluC2"
   },
   "outputs": [
    {
     "name": "stdout",
     "output_type": "stream",
     "text": [
      "WARNING:tensorflow:From <ipython-input-3-93d8da72a918>:2: read_data_sets (from tensorflow.contrib.learn.python.learn.datasets.mnist) is deprecated and will be removed in a future version.\n",
      "Instructions for updating:\n",
      "Please use alternatives such as official/mnist/dataset.py from tensorflow/models.\n",
      "WARNING:tensorflow:From C:\\Users\\s.mudalapuram\\AppData\\Roaming\\Python\\Python36\\site-packages\\tensorflow\\contrib\\learn\\python\\learn\\datasets\\mnist.py:260: maybe_download (from tensorflow.contrib.learn.python.learn.datasets.base) is deprecated and will be removed in a future version.\n",
      "Instructions for updating:\n",
      "Please write your own downloading logic.\n",
      "WARNING:tensorflow:From C:\\Users\\s.mudalapuram\\AppData\\Roaming\\Python\\Python36\\site-packages\\tensorflow\\contrib\\learn\\python\\learn\\datasets\\base.py:252: _internal_retry.<locals>.wrap.<locals>.wrapped_fn (from tensorflow.contrib.learn.python.learn.datasets.base) is deprecated and will be removed in a future version.\n",
      "Instructions for updating:\n",
      "Please use urllib or similar directly.\n",
      "Successfully downloaded train-images-idx3-ubyte.gz 9912422 bytes.\n",
      "WARNING:tensorflow:From C:\\Users\\s.mudalapuram\\AppData\\Roaming\\Python\\Python36\\site-packages\\tensorflow\\contrib\\learn\\python\\learn\\datasets\\mnist.py:262: extract_images (from tensorflow.contrib.learn.python.learn.datasets.mnist) is deprecated and will be removed in a future version.\n",
      "Instructions for updating:\n",
      "Please use tf.data to implement this functionality.\n",
      "Extracting MNIST_data\\train-images-idx3-ubyte.gz\n",
      "Successfully downloaded train-labels-idx1-ubyte.gz 28881 bytes.\n",
      "WARNING:tensorflow:From C:\\Users\\s.mudalapuram\\AppData\\Roaming\\Python\\Python36\\site-packages\\tensorflow\\contrib\\learn\\python\\learn\\datasets\\mnist.py:267: extract_labels (from tensorflow.contrib.learn.python.learn.datasets.mnist) is deprecated and will be removed in a future version.\n",
      "Instructions for updating:\n",
      "Please use tf.data to implement this functionality.\n",
      "Extracting MNIST_data\\train-labels-idx1-ubyte.gz\n",
      "WARNING:tensorflow:From C:\\Users\\s.mudalapuram\\AppData\\Roaming\\Python\\Python36\\site-packages\\tensorflow\\contrib\\learn\\python\\learn\\datasets\\mnist.py:110: dense_to_one_hot (from tensorflow.contrib.learn.python.learn.datasets.mnist) is deprecated and will be removed in a future version.\n",
      "Instructions for updating:\n",
      "Please use tf.one_hot on tensors.\n",
      "Successfully downloaded t10k-images-idx3-ubyte.gz 1648877 bytes.\n",
      "Extracting MNIST_data\\t10k-images-idx3-ubyte.gz\n",
      "Successfully downloaded t10k-labels-idx1-ubyte.gz 4542 bytes.\n",
      "Extracting MNIST_data\\t10k-labels-idx1-ubyte.gz\n",
      "WARNING:tensorflow:From C:\\Users\\s.mudalapuram\\AppData\\Roaming\\Python\\Python36\\site-packages\\tensorflow\\contrib\\learn\\python\\learn\\datasets\\mnist.py:290: DataSet.__init__ (from tensorflow.contrib.learn.python.learn.datasets.mnist) is deprecated and will be removed in a future version.\n",
      "Instructions for updating:\n",
      "Please use alternatives such as official/mnist/dataset.py from tensorflow/models.\n"
     ]
    }
   ],
   "source": [
    "from tensorflow.examples.tutorials.mnist import input_data\n",
    "mnist = input_data.read_data_sets('MNIST_data', one_hot=True)"
   ]
  },
  {
   "cell_type": "markdown",
   "metadata": {
    "colab_type": "text",
    "id": "FObfk6eoluC5"
   },
   "source": [
    "Get Training and Test Data"
   ]
  },
  {
   "cell_type": "code",
   "execution_count": 4,
   "metadata": {
    "colab": {
     "autoexec": {
      "startup": false,
      "wait_interval": 0
     }
    },
    "colab_type": "code",
    "id": "ac7gYHBWluC7"
   },
   "outputs": [],
   "source": [
    "trainX = mnist.train.images\n",
    "trainY = mnist.train.labels"
   ]
  },
  {
   "cell_type": "code",
   "execution_count": 5,
   "metadata": {
    "colab": {
     "autoexec": {
      "startup": false,
      "wait_interval": 0
     }
    },
    "colab_type": "code",
    "id": "Rq29QqcjluC9"
   },
   "outputs": [],
   "source": [
    "testX = mnist.test.images\n",
    "testY = mnist.test.labels"
   ]
  },
  {
   "cell_type": "markdown",
   "metadata": {
    "colab_type": "text",
    "id": "IhwQer1-luDA"
   },
   "source": [
    "How many Training and Test Examples?"
   ]
  },
  {
   "cell_type": "code",
   "execution_count": 6,
   "metadata": {
    "colab": {
     "autoexec": {
      "startup": false,
      "wait_interval": 0
     }
    },
    "colab_type": "code",
    "id": "f_7-dwZVluDB"
   },
   "outputs": [
    {
     "name": "stdout",
     "output_type": "stream",
     "text": [
      "Training input features:  (55000, 784)\n",
      "Training target data:  (55000, 10)\n"
     ]
    }
   ],
   "source": [
    "print('Training input features: ', trainX.shape)\n",
    "print('Training target data: ', trainY.shape)"
   ]
  },
  {
   "cell_type": "code",
   "execution_count": 7,
   "metadata": {
    "colab": {
     "autoexec": {
      "startup": false,
      "wait_interval": 0
     }
    },
    "colab_type": "code",
    "id": "9GC-wJjBr3LT"
   },
   "outputs": [
    {
     "data": {
      "text/plain": [
       "array([0., 0., 0., 0., 0., 0., 0., 1., 0., 0.])"
      ]
     },
     "execution_count": 7,
     "metadata": {},
     "output_type": "execute_result"
    }
   ],
   "source": [
    "# First value in trainY set 7 is equal to [0., 0., 0., 0., 0., 0., 0., 1., 0., 0.] \n",
    "trainY[0]"
   ]
  },
  {
   "cell_type": "code",
   "execution_count": 8,
   "metadata": {
    "colab": {
     "autoexec": {
      "startup": false,
      "wait_interval": 0
     }
    },
    "colab_type": "code",
    "id": "RFDXd1jtluDF"
   },
   "outputs": [
    {
     "name": "stdout",
     "output_type": "stream",
     "text": [
      "Test input features:  (10000, 784)\n",
      "Test target data:  (10000, 10)\n"
     ]
    }
   ],
   "source": [
    "print('Test input features: ', testX.shape)\n",
    "print('Test target data: ', testY.shape)"
   ]
  },
  {
   "cell_type": "markdown",
   "metadata": {
    "colab_type": "text",
    "id": "XIjuY6OnluDL"
   },
   "source": [
    "## Lets define some parameters"
   ]
  },
  {
   "cell_type": "code",
   "execution_count": 9,
   "metadata": {
    "colab": {
     "autoexec": {
      "startup": false,
      "wait_interval": 0
     }
    },
    "colab_type": "code",
    "id": "sSG6dX_jluDM"
   },
   "outputs": [],
   "source": [
    "#Directory to save logs and graph, change it as needed\n",
    "logs_path='/tmp/mnist/lr1'\n",
    "\n",
    "#Learning rate\n",
    "learning_rate = 0.03\n",
    "\n",
    "#Number of input features - MNIST has 784 features\n",
    "n_features = trainX.shape[1]\n",
    "\n",
    "#Number of possible output classess - 10 for MNIST\n",
    "n_classes = trainY.shape[1]\n",
    "\n",
    "#Model name for storage\n",
    "model_name = 'mnist_lr.ckpt'\n",
    "\n",
    "#How many times all the data will be shown to model\n",
    "training_epochs = 100"
   ]
  },
  {
   "cell_type": "markdown",
   "metadata": {
    "colab_type": "text",
    "id": "_HaqHWlFluDU"
   },
   "source": [
    "# Build the Graph"
   ]
  },
  {
   "cell_type": "markdown",
   "metadata": {
    "colab_type": "text",
    "id": "tNLaWsDuluDV"
   },
   "source": [
    "Input placeholders"
   ]
  },
  {
   "cell_type": "code",
   "execution_count": 10,
   "metadata": {
    "colab": {
     "autoexec": {
      "startup": false,
      "wait_interval": 0
     }
    },
    "colab_type": "code",
    "id": "alHyZgS-luDW"
   },
   "outputs": [],
   "source": [
    "with tf.name_scope('input'):\n",
    "    \n",
    "    # None -> batch size can be any size, with n_features\n",
    "    x = tf.placeholder(tf.float32, shape=[None, n_features], name=\"x-input\") \n",
    "    \n",
    "    # target n_classes output classes\n",
    "    y_ = tf.placeholder(tf.float32, shape=[None, n_classes], name=\"y-input\")"
   ]
  },
  {
   "cell_type": "markdown",
   "metadata": {
    "colab_type": "text",
    "id": "WdFv74grluDY"
   },
   "source": [
    "Define Weights and Bias"
   ]
  },
  {
   "cell_type": "code",
   "execution_count": 11,
   "metadata": {
    "colab": {
     "autoexec": {
      "startup": false,
      "wait_interval": 0
     }
    },
    "colab_type": "code",
    "id": "MRi032VoluDZ"
   },
   "outputs": [],
   "source": [
    "with tf.name_scope(\"weights\"):\n",
    "    W = tf.Variable(tf.zeros([n_features, n_classes]))  #784,10\n",
    "    b = tf.Variable(tf.zeros([n_classes])) #10"
   ]
  },
  {
   "cell_type": "markdown",
   "metadata": {
    "colab_type": "text",
    "id": "hpNPkhm0luDb"
   },
   "source": [
    "Prediction    "
   ]
  },
  {
   "cell_type": "code",
   "execution_count": 12,
   "metadata": {
    "colab": {
     "autoexec": {
      "startup": false,
      "wait_interval": 0
     }
    },
    "colab_type": "code",
    "id": "V1WsFIpKluDc"
   },
   "outputs": [],
   "source": [
    "with tf.name_scope(\"Output\"):\n",
    "    y = tf.nn.softmax(tf.matmul(x,W) + b)"
   ]
  },
  {
   "cell_type": "markdown",
   "metadata": {
    "colab_type": "text",
    "id": "7JDVOin3luDg"
   },
   "source": [
    "Loss"
   ]
  },
  {
   "cell_type": "code",
   "execution_count": 13,
   "metadata": {
    "colab": {
     "autoexec": {
      "startup": false,
      "wait_interval": 0
     }
    },
    "colab_type": "code",
    "id": "I5cvZr0IluDg"
   },
   "outputs": [],
   "source": [
    "with tf.name_scope('Loss'):\n",
    "    #Cross Entropy Loss\n",
    "    cross_entropy = tf.reduce_mean(-tf.reduce_sum(y_ * tf.log(y), reduction_indices=[1]))"
   ]
  },
  {
   "cell_type": "markdown",
   "metadata": {
    "colab_type": "text",
    "id": "lwLZdSS6luDl"
   },
   "source": [
    "GradientDescent Optimizer"
   ]
  },
  {
   "cell_type": "code",
   "execution_count": 14,
   "metadata": {
    "colab": {
     "autoexec": {
      "startup": false,
      "wait_interval": 0
     }
    },
    "colab_type": "code",
    "id": "QTegFczBluDm"
   },
   "outputs": [],
   "source": [
    "with tf.name_scope('train'):    \n",
    "    train_op = tf.train.GradientDescentOptimizer(learning_rate).minimize(\n",
    "        cross_entropy)    "
   ]
  },
  {
   "cell_type": "markdown",
   "metadata": {
    "colab_type": "text",
    "id": "cih1cB9yluDt"
   },
   "source": [
    "Model Accuracy"
   ]
  },
  {
   "cell_type": "code",
   "execution_count": 15,
   "metadata": {
    "colab": {
     "autoexec": {
      "startup": false,
      "wait_interval": 0
     }
    },
    "colab_type": "code",
    "id": "RGsjMn9WluDu"
   },
   "outputs": [],
   "source": [
    "with tf.name_scope('Accuracy'):\n",
    "    \n",
    "    #Get the number with highest probability\n",
    "    prediction = tf.argmax(y,1,name=\"Predict\")\n",
    "    \n",
    "    #Compare prediction with actual\n",
    "    correct_prediction = tf.equal(prediction, tf.argmax(y_,1))\n",
    "    \n",
    "    #Calculate mean accuracy across all data examples\n",
    "    accuracy = tf.reduce_mean(tf.cast(correct_prediction, tf.float32),\n",
    "                              name=\"accuracy\")"
   ]
  },
  {
   "cell_type": "markdown",
   "metadata": {
    "colab_type": "text",
    "id": "TaaHJxbGluDz"
   },
   "source": [
    "Loss and Accuracy Logging"
   ]
  },
  {
   "cell_type": "code",
   "execution_count": 16,
   "metadata": {
    "colab": {
     "autoexec": {
      "startup": false,
      "wait_interval": 0
     }
    },
    "colab_type": "code",
    "id": "1esNaCCYluD0"
   },
   "outputs": [],
   "source": [
    "# Training loss and accuracy\n",
    "training_loss = tf.summary.scalar(\"training_loss\", cross_entropy)\n",
    "training_accuracy = tf.summary.scalar(\"training_accuracy\", accuracy)\n",
    "\n",
    "#Test loss and accuracy\n",
    "test_loss = tf.summary.scalar(\"test_loss\", cross_entropy)\n",
    "test_accuracy = tf.summary.scalar(\"test_accuracy\", accuracy)\n",
    "\n",
    "# create log writer object\n",
    "writer = tf.summary.FileWriter(logs_path, graph=tf.get_default_graph())"
   ]
  },
  {
   "cell_type": "markdown",
   "metadata": {
    "colab_type": "text",
    "id": "F6rmVix8luD7"
   },
   "source": [
    "# Execute the Graph"
   ]
  },
  {
   "cell_type": "code",
   "execution_count": 17,
   "metadata": {
    "colab": {
     "autoexec": {
      "startup": false,
      "wait_interval": 0
     }
    },
    "colab_type": "code",
    "id": "beLGjqRcluD8"
   },
   "outputs": [
    {
     "name": "stdout",
     "output_type": "stream",
     "text": [
      "Epoch:  0\n",
      "Test Accuracy:  0.6705\n",
      "Epoch:  5\n",
      "Test Accuracy:  0.7134\n",
      "Epoch:  10\n",
      "Test Accuracy:  0.7383\n",
      "Epoch:  15\n",
      "Test Accuracy:  0.7545\n",
      "Epoch:  20\n",
      "Test Accuracy:  0.7638\n",
      "Epoch:  25\n",
      "Test Accuracy:  0.7775\n",
      "Epoch:  30\n",
      "Test Accuracy:  0.7875\n",
      "Epoch:  35\n",
      "Test Accuracy:  0.7946\n",
      "Epoch:  40\n",
      "Test Accuracy:  0.7997\n",
      "Epoch:  45\n",
      "Test Accuracy:  0.8046\n",
      "Epoch:  50\n",
      "Test Accuracy:  0.8087\n",
      "Epoch:  55\n",
      "Test Accuracy:  0.8135\n",
      "Epoch:  60\n",
      "Test Accuracy:  0.8161\n",
      "Epoch:  65\n",
      "Test Accuracy:  0.8187\n",
      "Epoch:  70\n",
      "Test Accuracy:  0.8216\n",
      "Epoch:  75\n",
      "Test Accuracy:  0.8243\n",
      "Epoch:  80\n",
      "Test Accuracy:  0.8269\n",
      "Epoch:  85\n",
      "Test Accuracy:  0.8285\n",
      "Epoch:  90\n",
      "Test Accuracy:  0.8318\n",
      "Epoch:  95\n",
      "Test Accuracy:  0.8332\n"
     ]
    }
   ],
   "source": [
    "#Start Graph execution\n",
    "with tf.Session() as sess:\n",
    "    \n",
    "    # variables need to be initialized before we can use them\n",
    "    sess.run(tf.global_variables_initializer())\n",
    "\n",
    "    # perform training cycles\n",
    "    for epoch in range(training_epochs):\n",
    "        \n",
    "        # perform the operations we defined earlier on batch\n",
    "        _,acc,loss = sess.run([train_op, training_accuracy,training_loss],\n",
    "                              feed_dict={x: trainX, y_: trainY})\n",
    "        \n",
    "        #log training accuracy and loss\n",
    "        writer.add_summary(acc, epoch)\n",
    "        writer.add_summary(loss, epoch) \n",
    "        \n",
    "        #Test loss and accuracy\n",
    "        #Please note we are giving test data for session run\n",
    "        acc,loss = sess.run([test_accuracy,test_loss],\n",
    "                                   feed_dict={x: testX, y_: testY})\n",
    "        \n",
    "        writer.add_summary(acc, epoch)\n",
    "        writer.add_summary(loss, epoch)\n",
    "        \n",
    "        if epoch % 5 == 0: \n",
    "            print (\"Epoch: \", epoch)\n",
    "            print (\"Test Accuracy: \", accuracy.eval(feed_dict={x: testX, \n",
    "                                                               y_: testY}))               \n",
    "    #Create a Saver to save the graph\n",
    "    saver = tf.train.Saver()\n",
    "    saver.save(sess, logs_path + '/' + model_name)"
   ]
  },
  {
   "cell_type": "code",
   "execution_count": 18,
   "metadata": {
    "colab": {
     "autoexec": {
      "startup": false,
      "wait_interval": 0
     }
    },
    "colab_type": "code",
    "id": "ESSxoEq_zmul"
   },
   "outputs": [],
   "source": [
    "# Close the session\n",
    "sess.close()"
   ]
  },
  {
   "cell_type": "code",
   "execution_count": null,
   "metadata": {},
   "outputs": [],
   "source": []
  }
 ],
 "metadata": {
  "colab": {
   "collapsed_sections": [],
   "default_view": {},
   "name": "3a. Classification_MNIST_Logistic.ipynb",
   "private_outputs": true,
   "provenance": [],
   "version": "0.3.2",
   "views": {}
  },
  "kernelspec": {
   "display_name": "Python 3",
   "language": "python",
   "name": "python3"
  },
  "language_info": {
   "codemirror_mode": {
    "name": "ipython",
    "version": 3
   },
   "file_extension": ".py",
   "mimetype": "text/x-python",
   "name": "python",
   "nbconvert_exporter": "python",
   "pygments_lexer": "ipython3",
   "version": "3.6.5"
  }
 },
 "nbformat": 4,
 "nbformat_minor": 1
}
